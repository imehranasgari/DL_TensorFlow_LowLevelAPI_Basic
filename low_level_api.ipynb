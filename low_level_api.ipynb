{
 "cells": [
  {
   "cell_type": "code",
   "execution_count": 5,
   "metadata": {
    "id": "PiaAwAWAz44y"
   },
   "outputs": [],
   "source": [
    "import tensorflow as tf\n",
    "import numpy as np"
   ]
  },
  {
   "cell_type": "markdown",
   "metadata": {
    "id": "ZtUPSKdU4xqd"
   },
   "source": [
    "## 1. Lists"
   ]
  },
  {
   "cell_type": "code",
   "execution_count": 20,
   "metadata": {
    "id": "rMdT8soM1oiz"
   },
   "outputs": [],
   "source": [
    "l = []\n",
    "\n",
    "@tf.function\n",
    "def f(x):\n",
    "    for i in x:\n",
    "        l.append(i + 1)"
   ]
  },
  {
   "cell_type": "code",
   "execution_count": 22,
   "metadata": {
    "id": "L9F0hPs62Cgo"
   },
   "outputs": [
    {
     "name": "stdout",
     "output_type": "stream",
     "text": [
      "[<tf.Tensor 'while/add:0' shape=() dtype=int32>]\n"
     ]
    }
   ],
   "source": [
    "f(tf.constant([1, 2, 3]))\n",
    "print(l)\n"
   ]
  },
  {
   "cell_type": "markdown",
   "metadata": {
    "id": "80rk0Oe06NQS"
   },
   "source": [
    "Let's rewrite this function with the use of `TensorArray` which is a data structure for dynamic arrays.\n",
    "use its `write` and `stack` method to rewrite the above function.\\\n",
    "https://www.tensorflow.org/api_docs/python/tf/TensorArray#write\n",
    "\n",
    "https://www.tensorflow.org/api_docs/python/tf/TensorArray#stack"
   ]
  },
  {
   "cell_type": "code",
   "execution_count": 104,
   "metadata": {
    "id": "vIh5L90N2J0x"
   },
   "outputs": [],
   "source": [
    "@tf.function\n",
    "def f(x):\n",
    "    ta = tf.TensorArray(dtype=tf.int32, size=0, dynamic_size=True)\n",
    "    for i in tf.range(tf.shape(x)[0]):\n",
    "        # Write your code here\n",
    "        tf.print(i)\n",
    "        ta = ta.write(i,x[i])\n",
    "    return ta.stack()"
   ]
  },
  {
   "cell_type": "code",
   "execution_count": 108,
   "metadata": {
    "id": "9nsGqkK83DNB"
   },
   "outputs": [
    {
     "name": "stdout",
     "output_type": "stream",
     "text": [
      "0\n",
      "1\n",
      "2\n"
     ]
    },
    {
     "data": {
      "text/plain": [
       "<tf.Tensor: shape=(3,), dtype=int32, numpy=array([1, 2, 3])>"
      ]
     },
     "execution_count": 108,
     "metadata": {},
     "output_type": "execute_result"
    }
   ],
   "source": [
    "f(tf.constant([1, 2, 3]))"
   ]
  },
  {
   "cell_type": "markdown",
   "metadata": {
    "id": "Cj0INa0-EI-U"
   },
   "source": [
    "## 2. Tensor Objects and Numpy Arrays"
   ]
  },
  {
   "cell_type": "code",
   "execution_count": 112,
   "metadata": {
    "id": "_TEgRazb3Fa8"
   },
   "outputs": [],
   "source": [
    "def np_multiply(a, b):\n",
    "    return np.multiply(a, b)"
   ]
  },
  {
   "cell_type": "code",
   "execution_count": 114,
   "metadata": {
    "id": "Ozgh7H9XE4UX"
   },
   "outputs": [
    {
     "data": {
      "text/plain": [
       "array([50])"
      ]
     },
     "execution_count": 114,
     "metadata": {},
     "output_type": "execute_result"
    }
   ],
   "source": [
    "a_tensor = tf.constant([5])\n",
    "b_tensor = tf.constant([10])\n",
    "np_multiply(a_tensor, b_tensor)"
   ]
  },
  {
   "cell_type": "code",
   "execution_count": 130,
   "metadata": {
    "id": "rfaDTKbJFOCC"
   },
   "outputs": [],
   "source": [
    "import tensorflow.experimental.numpy as tnp\n",
    "\n",
    "@tf.function\n",
    "def tf_multiply(a, b):\n",
    "    #write your code here\n",
    "    #return tnp.multiply(a, b)\n",
    "    return tf.math.multiply(a, b)"
   ]
  },
  {
   "cell_type": "code",
   "execution_count": 132,
   "metadata": {
    "id": "3Kzl1f_vFEnD"
   },
   "outputs": [
    {
     "data": {
      "text/plain": [
       "<tf.Tensor: shape=(1,), dtype=int32, numpy=array([50])>"
      ]
     },
     "execution_count": 132,
     "metadata": {},
     "output_type": "execute_result"
    }
   ],
   "source": [
    "a_array = np.array([5])\n",
    "b_array = np.array([10])\n",
    "a_tensor = tf.constant([5])\n",
    "b_tensor = tf.constant([10])\n",
    "tf_multiply(a_array, b_array)"
   ]
  },
  {
   "cell_type": "code",
   "execution_count": 190,
   "metadata": {},
   "outputs": [],
   "source": [
    "# تعریف تابع گرافی برای np_multiply\n",
    "@tf.function\n",
    "def np_multiply_tf_func(a, b):\n",
    "    return tnp.multiply(a, b)\n",
    "\n",
    "# تعریف تابع گرافی برای tf_multiply\n",
    "@tf.function\n",
    "def tf_multiply_tf_func(a, b):\n",
    "    return tf.math.multiply(a, b)"
   ]
  },
  {
   "cell_type": "markdown",
   "metadata": {
    "id": "RJ38RxGOG0Na"
   },
   "source": [
    "now convert there two functions into Graph functions and run again:"
   ]
  },
  {
   "cell_type": "code",
   "execution_count": 184,
   "metadata": {
    "id": "KDJp-Ea6F2Ym"
   },
   "outputs": [],
   "source": [
    "np_multiply_tf_func = np.multiply(a_array, b_array)\n",
    "tf_multiply_tf_func = tnp.multiply(a_array, b_array)"
   ]
  },
  {
   "cell_type": "code",
   "execution_count": 192,
   "metadata": {
    "id": "AeUdamKxHh9Y"
   },
   "outputs": [
    {
     "data": {
      "text/plain": [
       "<tf.Tensor: shape=(1,), dtype=int32, numpy=array([50])>"
      ]
     },
     "execution_count": 192,
     "metadata": {},
     "output_type": "execute_result"
    }
   ],
   "source": [
    "np_multiply_tf_func(a_tensor, b_tensor)"
   ]
  },
  {
   "cell_type": "markdown",
   "metadata": {
    "id": "xNhz949QYRZT"
   },
   "source": [
    "As you noticed we can't use `numpy` operations inside graph functions and we must use their `TensorFlow` equivalents.\\\n",
    "Also TensorFlow has a new API which implemented the numpy functions:\n",
    "https://www.tensorflow.org/guide/tf_numpy"
   ]
  },
  {
   "cell_type": "code",
   "execution_count": 161,
   "metadata": {
    "id": "_-kRsEe8HnAn"
   },
   "outputs": [
    {
     "data": {
      "text/plain": [
       "<tf.Tensor: shape=(1,), dtype=int32, numpy=array([50])>"
      ]
     },
     "execution_count": 161,
     "metadata": {},
     "output_type": "execute_result"
    }
   ],
   "source": [
    "tf_multiply_tf_func(a_array, b_array)"
   ]
  },
  {
   "cell_type": "markdown",
   "metadata": {
    "id": "8SLA4FhKZPOb"
   },
   "source": [
    "## 3. Tensor Assignment"
   ]
  },
  {
   "cell_type": "code",
   "execution_count": 194,
   "metadata": {
    "id": "QTu3IsdiZOlN"
   },
   "outputs": [],
   "source": [
    "def assign_one(x):\n",
    "    x[1] = 1\n",
    "    return x"
   ]
  },
  {
   "cell_type": "code",
   "execution_count": 196,
   "metadata": {
    "id": "WN0Wtct0ZxgQ"
   },
   "outputs": [
    {
     "ename": "TypeError",
     "evalue": "'tensorflow.python.framework.ops.EagerTensor' object does not support item assignment",
     "output_type": "error",
     "traceback": [
      "\u001b[1;31m---------------------------------------------------------------------------\u001b[0m",
      "\u001b[1;31mTypeError\u001b[0m                                 Traceback (most recent call last)",
      "Cell \u001b[1;32mIn[196], line 2\u001b[0m\n\u001b[0;32m      1\u001b[0m x \u001b[38;5;241m=\u001b[39m tf\u001b[38;5;241m.\u001b[39mconstant([\u001b[38;5;241m5\u001b[39m, \u001b[38;5;241m6\u001b[39m, \u001b[38;5;241m7\u001b[39m])\n\u001b[1;32m----> 2\u001b[0m \u001b[43massign_one\u001b[49m\u001b[43m(\u001b[49m\u001b[43mx\u001b[49m\u001b[43m)\u001b[49m\n",
      "Cell \u001b[1;32mIn[194], line 2\u001b[0m, in \u001b[0;36massign_one\u001b[1;34m(x)\u001b[0m\n\u001b[0;32m      1\u001b[0m \u001b[38;5;28;01mdef\u001b[39;00m \u001b[38;5;21massign_one\u001b[39m(x):\n\u001b[1;32m----> 2\u001b[0m     x[\u001b[38;5;241m1\u001b[39m] \u001b[38;5;241m=\u001b[39m \u001b[38;5;241m1\u001b[39m\n\u001b[0;32m      3\u001b[0m     \u001b[38;5;28;01mreturn\u001b[39;00m x\n",
      "\u001b[1;31mTypeError\u001b[0m: 'tensorflow.python.framework.ops.EagerTensor' object does not support item assignment"
     ]
    }
   ],
   "source": [
    "x = tf.constant([5, 6, 7])\n",
    "assign_one(x)"
   ]
  },
  {
   "cell_type": "markdown",
   "metadata": {
    "id": "tk41zqXmabG7"
   },
   "source": [
    "You can see that TensorFlow `Tensor` object does not support item assignment in contrast with numpy array or python lists"
   ]
  },
  {
   "cell_type": "markdown",
   "metadata": {
    "id": "H7A9eLqOasjx"
   },
   "source": [
    "But there is a way to do this in eager mode:\n",
    "1. create a numpy array from the tensor by calling `tensor.numpy()\n",
    "2. assign the value to numpy array \n",
    "3. create a constant tensor from the numpy array\n",
    "\n",
    "let's write it"
   ]
  },
  {
   "cell_type": "code",
   "execution_count": 199,
   "metadata": {
    "id": "tUK5fj2HZ31g"
   },
   "outputs": [],
   "source": [
    "def assign_one_new(x):\n",
    "    x_numpy = x.numpy()\n",
    "    #Write your code here\n",
    "    x_numpy[0] = 1\n",
    "    return tf.constant(x_numpy)"
   ]
  },
  {
   "cell_type": "code",
   "execution_count": 201,
   "metadata": {
    "id": "IDTA_EexaSJB"
   },
   "outputs": [
    {
     "data": {
      "text/plain": [
       "<tf.Tensor: shape=(3,), dtype=int32, numpy=array([1, 6, 7])>"
      ]
     },
     "execution_count": 201,
     "metadata": {},
     "output_type": "execute_result"
    }
   ],
   "source": [
    "x = tf.constant([5, 6, 7])\n",
    "assign_one_new(x)"
   ]
  },
  {
   "cell_type": "markdown",
   "metadata": {
    "id": "v384d3hHcQcO"
   },
   "source": [
    "Now convert this function to a Graph function"
   ]
  },
  {
   "cell_type": "code",
   "execution_count": 281,
   "metadata": {},
   "outputs": [],
   "source": [
    "# ایجاد tf.Variable خارج از تابع\n",
    "v = tf.Variable([0, 0, 0], dtype=tf.int32)  # مقدار اولیه می‌تواند هر چیزی باشد\n",
    "\n",
    "def assign_one_new(x):\n",
    "    # به‌روزرسانی متغیر با مقدار ورودی x\n",
    "    v.assign(x)\n",
    "    # تخصیص مقدار 1 به ایندکس 1\n",
    "    v.assign(tf.tensor_scatter_nd_update(v, [[1]], [1]))\n",
    "    return v"
   ]
  },
  {
   "cell_type": "code",
   "execution_count": 283,
   "metadata": {},
   "outputs": [],
   "source": [
    "assign_one_graph = tf.function(assign_one_new)"
   ]
  },
  {
   "cell_type": "code",
   "execution_count": 285,
   "metadata": {},
   "outputs": [
    {
     "name": "stdout",
     "output_type": "stream",
     "text": [
      "tf.Tensor([5 1 7], shape=(3,), dtype=int32)\n",
      "<tf.Variable 'Variable:0' shape=(3,) dtype=int32, numpy=array([5, 1, 7])>\n"
     ]
    }
   ],
   "source": [
    "# تنسور ورودی\n",
    "x = tf.constant([5, 6, 7])\n",
    "\n",
    "result_graph = assign_one_graph(x)\n",
    "\n",
    "# فراخوانی تابع\n",
    "result = assign_one_new(x)\n",
    "print(result_graph) \n",
    "print(result) "
   ]
  },
  {
   "cell_type": "markdown",
   "metadata": {
    "id": "SoPqXDDFcwn8"
   },
   "source": [
    "You can see that there is no way to assign a value to a `Tensor` in graph mode, you should consider it in your implementations.\n",
    "You can use `tf.Variable` instead of Tensors for assignments:\n",
    "https://www.tensorflow.org/api_docs/python/tf/Variable#assign"
   ]
  },
  {
   "cell_type": "code",
   "execution_count": null,
   "metadata": {
    "id": "3ztOM_radz9X"
   },
   "outputs": [],
   "source": []
  }
 ],
 "metadata": {
  "colab": {
   "authorship_tag": "ABX9TyNYAKxd3yam6d0T9ZV50W7s",
   "provenance": []
  },
  "kernelspec": {
   "display_name": "Python [conda env:a.i] *",
   "language": "python",
   "name": "conda-env-a.i-py"
  },
  "language_info": {
   "codemirror_mode": {
    "name": "ipython",
    "version": 3
   },
   "file_extension": ".py",
   "mimetype": "text/x-python",
   "name": "python",
   "nbconvert_exporter": "python",
   "pygments_lexer": "ipython3",
   "version": "3.10.13"
  }
 },
 "nbformat": 4,
 "nbformat_minor": 4
}
